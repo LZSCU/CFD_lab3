{
 "cells": [
  {
   "cell_type": "markdown",
   "id": "caea2a64",
   "metadata": {},
   "source": [
    "# <center> <font face=\"times new roman\"><font size=5>Log file for lab3"
   ]
  },
  {
   "cell_type": "markdown",
   "id": "60f9b64f",
   "metadata": {},
   "source": [
    "**<center><font size=3> Author: LEI, Zhen**<br>*This is for recording my process in lab 3 for CFD course in HKUST. You can track my progress in this place.*"
   ]
  },
  {
   "cell_type": "markdown",
   "id": "c164076e",
   "metadata": {},
   "source": [
    "### <font size=3><font color=darkred>Report for Lab3 -> Report.docx<br>Description for Lab3 -> description.pdf"
   ]
  },
  {
   "cell_type": "markdown",
   "id": "bcdec513",
   "metadata": {},
   "source": [
    "---"
   ]
  },
  {
   "cell_type": "markdown",
   "id": "486b8ed1",
   "metadata": {},
   "source": [
    "### <center>13/05/2023"
   ]
  },
  {
   "cell_type": "markdown",
   "id": "774318b6",
   "metadata": {},
   "source": [
    "<font face=\"times new roman\"><font size=3>\n",
    "  1.<br>\n",
    "\tThe wheel of the original car has been modified, and I have done some other suture.<br>\n",
    "\tfigure of the new model -> prepare the vehicle geometry -> view.pdf<br>\n",
    "  2.<br>\n",
    "\tThe water tightness has been checked<br>\n",
    "\tProcess: OK<br>\n",
    "  3.<br>\n",
    "\tdomain design <br>\n",
    "\tprocess: OK<br>\n",
    " \tfigure of the domain -> design the computational domain -> domain.pdf<br>\n",
    "\tfigure of the process -> design the computational domain -> process fig.pdf<br>\n",
    "  4.<br>\n",
    "\tThe velocity of the free stream has been changed from 40m/s to 20m/s to fit the realastic case.<br>\n",
    " 5.<br>\n",
    "\ta more detailed computational domain has been added.\n",
    "\tfigure of the domain -> design the computational domain -> domain.pdf\n",
    "\tthe first page is the 3D case, and the second page is the 2D breakdown.</font>"
   ]
  },
  {
   "cell_type": "markdown",
   "id": "1adfb1dc",
   "metadata": {},
   "source": [
    "___"
   ]
  },
  {
   "cell_type": "markdown",
   "id": "119ce64d",
   "metadata": {},
   "source": [
    "### <center>14/05/2023"
   ]
  },
  {
   "cell_type": "markdown",
   "id": "701452c3",
   "metadata": {},
   "source": [
    "  <font face=\"times new roman\"><font size=3>\n",
    "    1.<br>\n",
    "\tAdd a schematic for the engineer problem.\n",
    "\tfigure of the schematic -> engineer problem -> schematic.pdf<br>\n",
    "  2.<br>\n",
    "\tAdd some content for the report"
   ]
  }
 ],
 "metadata": {
  "kernelspec": {
   "display_name": "Python 3 (ipykernel)",
   "language": "python",
   "name": "python3"
  },
  "language_info": {
   "codemirror_mode": {
    "name": "ipython",
    "version": 3
   },
   "file_extension": ".py",
   "mimetype": "text/x-python",
   "name": "python",
   "nbconvert_exporter": "python",
   "pygments_lexer": "ipython3",
   "version": "3.9.13"
  }
 },
 "nbformat": 4,
 "nbformat_minor": 5
}
